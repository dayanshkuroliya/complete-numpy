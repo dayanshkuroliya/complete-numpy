{
 "cells": [
  {
   "cell_type": "markdown",
   "id": "dabf4b57",
   "metadata": {},
   "source": [
    "## Numpy array and basic "
   ]
  },
  {
   "cell_type": "code",
   "execution_count": 2,
   "id": "d8c168c4",
   "metadata": {},
   "outputs": [],
   "source": [
    "import numpy as np"
   ]
  },
  {
   "cell_type": "markdown",
   "id": "4711cb84",
   "metadata": {},
   "source": [
    "### creating arrays from list "
   ]
  },
  {
   "cell_type": "code",
   "execution_count": 5,
   "id": "885c799a",
   "metadata": {},
   "outputs": [
    {
     "name": "stdout",
     "output_type": "stream",
     "text": [
      "1d array : [1 2 3 4 5]\n",
      "2d array : [[1 2 3]\n",
      " [4 5 6]]\n"
     ]
    }
   ],
   "source": [
    "arr_1d = np.array([1,2,3,4,5])\n",
    "print(\"1d array :\",arr_1d)\n",
    "\n",
    "arr_2d = np.array([[1,2,3],[4,5,6]])\n",
    "print(\"2d array :\",arr_2d)"
   ]
  },
  {
   "cell_type": "code",
   "execution_count": 11,
   "id": "5658743b",
   "metadata": {},
   "outputs": [
    {
     "name": "stdout",
     "output_type": "stream",
     "text": [
      "python list multiplication [1, 2, 3, 4, 1, 2, 3, 4]\n",
      "python arrray multiplication [2 4 6 8]\n"
     ]
    }
   ],
   "source": [
    "py_list = [1,2,3,4]\n",
    "print(\"python list multiplication\",py_list * 2)\n",
    "\n",
    "py_array = np.array([1,2,3,4])\n",
    "print(\"python arrray multiplication\",py_array * 2)"
   ]
  },
  {
   "cell_type": "code",
   "execution_count": 39,
   "id": "954b3865",
   "metadata": {},
   "outputs": [
    {
     "name": "stdout",
     "output_type": "stream",
     "text": [
      "Tue Jun 24 16:57:56 2025\n"
     ]
    }
   ],
   "source": [
    "import time\n",
    "start = time.time()#use for current time laps(not human readable)\n",
    "\n",
    "print(time.ctime())#use for current human readable time "
   ]
  },
  {
   "cell_type": "markdown",
   "id": "1b9c83cc",
   "metadata": {},
   "source": [
    "## It measures how long it takes to:\n",
    "\n",
    "Create a list of 100,000 numbers, where each number is multiplied by 2"
   ]
  },
  {
   "cell_type": "code",
   "execution_count": 40,
   "id": "c30bd2a7",
   "metadata": {},
   "outputs": [
    {
     "name": "stdout",
     "output_type": "stream",
     "text": [
      "\n",
      " list operation time:  0.005216836929321289\n"
     ]
    }
   ],
   "source": [
    "import time\n",
    "start = time.time()\n",
    "py_list = [i*2 for i in range(100000)]\n",
    "print(\"\\n list operation time: \", time.time()-start)"
   ]
  },
  {
   "cell_type": "markdown",
   "id": "2f12e5af",
   "metadata": {},
   "source": [
    "same for array "
   ]
  },
  {
   "cell_type": "code",
   "execution_count": 41,
   "id": "d9b727c9",
   "metadata": {},
   "outputs": [
    {
     "name": "stdout",
     "output_type": "stream",
     "text": [
      "\n",
      " Numpy operation time: 0.0008804798126220703\n"
     ]
    }
   ],
   "source": [
    "start = time.time()\n",
    "np_array = np.arange(10000) * 2\n",
    "print(\"\\n Numpy operation time:\", time.time() - start)"
   ]
  },
  {
   "cell_type": "markdown",
   "id": "aa97449b",
   "metadata": {},
   "source": [
    "creating arrays from scratch"
   ]
  },
  {
   "cell_type": "code",
   "execution_count": 60,
   "id": "4477eeef",
   "metadata": {},
   "outputs": [
    {
     "name": "stdout",
     "output_type": "stream",
     "text": [
      "zeros array:\n",
      " [[0. 0. 0. 0.]\n",
      " [0. 0. 0. 0.]\n",
      " [0. 0. 0. 0.]]\n",
      "ones array:\n",
      " [[1. 1. 1. 1.]\n",
      " [1. 1. 1. 1.]\n",
      " [1. 1. 1. 1.]]\n",
      "full array: \n",
      " [[7 7]\n",
      " [7 7]]\n",
      "random array:\n",
      " [[0.58760469 0.98971467 0.97760844]\n",
      " [0.67836817 0.94167901 0.59255433]]\n",
      "sequence array: \n",
      " [0 2 4 6 8]\n"
     ]
    }
   ],
   "source": [
    "zeros = np.zeros((3,4))\n",
    "print(\"zeros array:\\n\",zeros)\n",
    "\n",
    "ones = np.ones((3,4))\n",
    "print(\"ones array:\\n\",ones)\n",
    "\n",
    "full = np.full((2,2), 7)\n",
    "print(\"full array: \\n\",full)\n",
    "\n",
    "#imp \n",
    "random = np.random.random((2,3))\n",
    "print(\"random array:\\n\",random)\n",
    "\n",
    "\n",
    "#..............(start , stop ,step)\n",
    "sequence = np.arange(0 , 10 , 2)\n",
    "print(\"sequence array: \\n\", sequence)\n"
   ]
  },
  {
   "cell_type": "markdown",
   "id": "9367536f",
   "metadata": {},
   "source": [
    "## Vector , Matrix and Tensor"
   ]
  },
  {
   "cell_type": "code",
   "execution_count": 51,
   "id": "0211bbe5",
   "metadata": {},
   "outputs": [
    {
     "name": "stdout",
     "output_type": "stream",
     "text": [
      "vector: [1 2 3]\n",
      "Matrix: [[1 2 3]\n",
      " [4 5 6]]\n",
      "Tensor: [[[1 2]\n",
      "  [3 4]]\n",
      "\n",
      " [[5 6]\n",
      "  [7 8]]]\n"
     ]
    }
   ],
   "source": [
    "vector = np.array([1,2,3])\n",
    "print(\"vector:\" , vector)\n",
    "\n",
    "#2D array are alwase called matrix\n",
    "matrix= np.array([[1,2,3],[4,5,6]])\n",
    "print(\"Matrix:\",matrix)\n",
    "\n",
    "tensor= np.array([[[1,2],[3,4]],\n",
    "                  [[5,6],[7,8]]])\n",
    "print(\"Tensor:\",tensor)\n"
   ]
  },
  {
   "cell_type": "markdown",
   "id": "8b7c2278",
   "metadata": {},
   "source": [
    "## Array properties"
   ]
  },
  {
   "cell_type": "code",
   "execution_count": 59,
   "id": "994c55d4",
   "metadata": {},
   "outputs": [
    {
     "name": "stdout",
     "output_type": "stream",
     "text": [
      "shape: (3, 3)\n",
      "Dimensions: 2\n",
      "Size: 9\n",
      "Data type: int64\n"
     ]
    }
   ],
   "source": [
    "arr = np.array([[1,2,3],\n",
    "                [4,5,6],\n",
    "                [7,8,9]])\n",
    "print(\"shape:\", arr.shape)\n",
    "print(\"Dimensions:\",arr.ndim)\n",
    "print(\"Size:\", arr.size)\n",
    "print(\"Data type:\",arr.dtype)"
   ]
  },
  {
   "cell_type": "markdown",
   "id": "4f9baf91",
   "metadata": {},
   "source": [
    "## Array Reshaping"
   ]
  },
  {
   "cell_type": "code",
   "execution_count": 75,
   "id": "d83be2a1",
   "metadata": {},
   "outputs": [
    {
     "name": "stdout",
     "output_type": "stream",
     "text": [
      "original array [ 0  1  2  3  4  5  6  7  8  9 10 11]\n",
      "\n",
      " Reshaped array  [[ 0  1  2  3]\n",
      " [ 4  5  6  7]\n",
      " [ 8  9 10 11]]\n",
      "\n",
      " Flattend array [ 0  1  2  3  4  5  6  7  8  9 10 11]\n",
      "\n",
      " raveled array [ 0  1  2  3  4  5  6  7  8  9 10 11]\n",
      "\n",
      " Transposed array  [[ 0  4  8]\n",
      " [ 1  5  9]\n",
      " [ 2  6 10]\n",
      " [ 3  7 11]]\n"
     ]
    }
   ],
   "source": [
    "arr =np.arange(12)\n",
    "print(\"original array\", arr)\n",
    "\n",
    "# print(\"reshaped array:\",arr.reshape((3,4)))\n",
    "\n",
    "reshaped = arr.reshape((3,4))\n",
    "print(\"\\n Reshaped array \", reshaped)\n",
    "#reshaping of array is have a condition that reshape array size is equal to the size of orignal array.\n",
    "\n",
    "\n",
    "flattened = reshaped.flatten()\n",
    "print(\"\\n Flattend array\", flattened)\n",
    "\n",
    "raveled = reshaped.ravel()\n",
    "print(\"\\n raveled array\", raveled)\n",
    "# flattened & raveled is same but ravel returns view insted of copy \n",
    "\n",
    "\n",
    "#Transpose\n",
    "transpose = reshaped.T\n",
    "print(\"\\n Transposed array \", transpose)\n"
   ]
  }
 ],
 "metadata": {
  "kernelspec": {
   "display_name": ".venv",
   "language": "python",
   "name": "python3"
  },
  "language_info": {
   "codemirror_mode": {
    "name": "ipython",
    "version": 3
   },
   "file_extension": ".py",
   "mimetype": "text/x-python",
   "name": "python",
   "nbconvert_exporter": "python",
   "pygments_lexer": "ipython3",
   "version": "3.13.3"
  }
 },
 "nbformat": 4,
 "nbformat_minor": 5
}
