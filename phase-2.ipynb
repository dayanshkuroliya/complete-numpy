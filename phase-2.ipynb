{
 "cells": [
  {
   "cell_type": "markdown",
   "id": "8c65396f",
   "metadata": {},
   "source": [
    "## Numpy Array operations"
   ]
  },
  {
   "cell_type": "code",
   "execution_count": null,
   "id": "659cd369",
   "metadata": {},
   "outputs": [],
   "source": [
    "import numpy as np"
   ]
  },
  {
   "cell_type": "markdown",
   "id": "5bef42be",
   "metadata": {},
   "source": [
    "## Slicing "
   ]
  },
  {
   "cell_type": "code",
   "execution_count": 6,
   "id": "ce5e1c00",
   "metadata": {},
   "outputs": [
    {
     "name": "stdout",
     "output_type": "stream",
     "text": [
      "Basic Slicing [3 4 5 6 7]\n",
      "Slicing with step [3 5 7]\n",
      "Negative indexing 8\n"
     ]
    }
   ],
   "source": [
    "arr = np.array([1,2,3,4,5,6,7,8,9,10])\n",
    "print(\"Basic Slicing\", arr[2:7])\n",
    "print(\"Slicing with step\", arr[2:7:2])\n",
    "print(\"Negative indexing\", arr[-3])"
   ]
  },
  {
   "cell_type": "code",
   "execution_count": 12,
   "id": "bf908b24",
   "metadata": {},
   "outputs": [
    {
     "name": "stdout",
     "output_type": "stream",
     "text": [
      "specific element: 6\n",
      "Entire row: [4 5 6]\n",
      "Entire coloum: [2 5 8]\n"
     ]
    }
   ],
   "source": [
    "arr_2d = np.array([[1,2,3],\n",
    "                   [4,5,6],\n",
    "                   [7,8,9]])\n",
    "print(\"specific element:\", arr_2d[1,2])\n",
    "print(\"Entire row:\", arr_2d[1])\n",
    "print(\"Entire coloum:\", arr_2d[:,1])"
   ]
  },
  {
   "cell_type": "markdown",
   "id": "15b10edc",
   "metadata": {},
   "source": [
    "## Sorting"
   ]
  },
  {
   "cell_type": "code",
   "execution_count": 18,
   "id": "228724a3",
   "metadata": {},
   "outputs": [
    {
     "name": "stdout",
     "output_type": "stream",
     "text": [
      "sorted Array: [1 2 3 4 5 6 7 8 9]\n",
      "sorted 2D array by column [[1 1]\n",
      " [2 2]\n",
      " [3 3]]\n",
      "sorted 2D array by row [[1 3]\n",
      " [1 2]\n",
      " [2 3]]\n"
     ]
    }
   ],
   "source": [
    "unsorted = np.array([3,1,2,5,4,6,7,9,8])\n",
    "print(\"sorted Array:\", np.sort(unsorted))\n",
    "\n",
    "arr_2d_unsorted = np.array([[3,1],\n",
    "                            [1,2],\n",
    "                            [2,3]])\n",
    "print(\"sorted 2D array by column\", np.sort(arr_2d_unsorted, axis=0))\n",
    "print(\"sorted 2D array by row\", np.sort(arr_2d_unsorted, axis=1))"
   ]
  },
  {
   "cell_type": "markdown",
   "id": "3c93884c",
   "metadata": {},
   "source": [
    "## Filtering"
   ]
  },
  {
   "cell_type": "code",
   "execution_count": 19,
   "id": "760ae6cf",
   "metadata": {},
   "outputs": [
    {
     "name": "stdout",
     "output_type": "stream",
     "text": [
      "Even numbers [ 2  4  6  8 10]\n"
     ]
    }
   ],
   "source": [
    "numbers =np.array([1,2,3,4,5,6,7,8,9,10])\n",
    "even_number = numbers[numbers % 2 == 0]\n",
    "print(\"Even numbers\", even_number)"
   ]
  },
  {
   "cell_type": "markdown",
   "id": "a40c3951",
   "metadata": {},
   "source": [
    "Filter with mask"
   ]
  },
  {
   "cell_type": "code",
   "execution_count": null,
   "id": "cb7ef04f",
   "metadata": {},
   "outputs": [
    {
     "name": "stdout",
     "output_type": "stream",
     "text": [
      "numbers greater than 5: [5]\n",
      "numbers less than 5: [1 2 3 4]\n"
     ]
    }
   ],
   "source": [
    "mask = numbers >  5\n",
    "print(\"numbers greater than 5:\",numbers[mask])\n",
    "\n",
    "mask = numbers < 5 \n",
    "print(\"numbers less than 5:\", numbers[mask])"
   ]
  },
  {
   "cell_type": "markdown",
   "id": "465413c4",
   "metadata": {},
   "source": [
    "## Fancy indexing vs np.where()"
   ]
  },
  {
   "cell_type": "code",
   "execution_count": 30,
   "id": "7c639534",
   "metadata": {},
   "outputs": [
    {
     "name": "stdout",
     "output_type": "stream",
     "text": [
      "[1 3 5]\n",
      "NP wher [ 6  7  8  9 10]\n"
     ]
    }
   ],
   "source": [
    "#put the values of index 0,2,4 of numbers array , in indices \n",
    "indices = [0,2,4]\n",
    "print(numbers[indices])\n",
    "\n",
    "where_result = np.where(numbers >5)\n",
    "print(\"NP wher\", numbers[where_result])"
   ]
  },
  {
   "cell_type": "code",
   "execution_count": 32,
   "id": "1d5b6611",
   "metadata": {},
   "outputs": [
    {
     "name": "stdout",
     "output_type": "stream",
     "text": [
      "[ 1  2  3  4  5  6  7  8  9 10]\n",
      "['flase' 'flase' 'flase' 'flase' 'flase' 'true' 'true' 'true' 'true'\n",
      " 'true']\n"
     ]
    }
   ],
   "source": [
    "\n",
    "condition_array= np.where(numbers >5 , \"true\" ,\"flase\")\n",
    "#( numbers array me jo number 5 se bada ho wha pe true likho , else false kardo )\n",
    "print(numbers)\n",
    "print(condition_array)\n"
   ]
  },
  {
   "cell_type": "markdown",
   "id": "1b5f41e2",
   "metadata": {},
   "source": [
    "## Adding and removing Data"
   ]
  },
  {
   "cell_type": "code",
   "execution_count": null,
   "id": "e2692829",
   "metadata": {},
   "outputs": [
    {
     "name": "stdout",
     "output_type": "stream",
     "text": [
      "[1 2 3 4 5 6]\n"
     ]
    }
   ],
   "source": [
    "arr1 = np.array([1,2,3])\n",
    "arr2 = np.array([4,5,6])\n",
    "#for merging two array \n",
    "combine = np.concatenate((arr1 , arr2))\n",
    "print(combine)"
   ]
  },
  {
   "cell_type": "markdown",
   "id": "9b98f997",
   "metadata": {},
   "source": [
    "### array compatibility"
   ]
  },
  {
   "cell_type": "code",
   "execution_count": 34,
   "id": "6933fe12",
   "metadata": {},
   "outputs": [
    {
     "name": "stdout",
     "output_type": "stream",
     "text": [
      "Compatibility shapes True\n"
     ]
    }
   ],
   "source": [
    "a= np.array([1,2,3])\n",
    "b= np.array([4,5,6])\n",
    "c= np.array([7,8,9])\n",
    "\n",
    "print(\"Compatibility shapes\", a.shape == b.shape)"
   ]
  },
  {
   "cell_type": "code",
   "execution_count": 36,
   "id": "1864083a",
   "metadata": {},
   "outputs": [
    {
     "name": "stdout",
     "output_type": "stream",
     "text": [
      "[[1 2]\n",
      " [3 4]]\n",
      "[[1 2]\n",
      " [3 4]\n",
      " [5 6]]\n",
      "with new column [[1 2 7]\n",
      " [3 4 8]]\n"
     ]
    }
   ],
   "source": [
    "original = np.array([[1,2],[3,4]])\n",
    "new_row = np.array([[5,6]])\n",
    "\n",
    "#vstack is used for row adding\n",
    "with_new_row = np.vstack((original , new_row))\n",
    "print(original)\n",
    "print(with_new_row)\n",
    "\n",
    "#hstack is used for column adding \n",
    "new_col =np.array([[7],[8]])\n",
    "with_new_col = np.hstack((original , new_col))\n",
    "print(\"with new column\", with_new_col)"
   ]
  },
  {
   "cell_type": "code",
   "execution_count": 37,
   "id": "a2bac305",
   "metadata": {},
   "outputs": [
    {
     "name": "stdout",
     "output_type": "stream",
     "text": [
      "[1 2 3 5]\n"
     ]
    }
   ],
   "source": [
    "arr =np.array([1,2,3,4,5])\n",
    "deleted = np.delete(arr, 3)\n",
    "print(deleted)"
   ]
  }
 ],
 "metadata": {
  "kernelspec": {
   "display_name": ".venv",
   "language": "python",
   "name": "python3"
  },
  "language_info": {
   "codemirror_mode": {
    "name": "ipython",
    "version": 3
   },
   "file_extension": ".py",
   "mimetype": "text/x-python",
   "name": "python",
   "nbconvert_exporter": "python",
   "pygments_lexer": "ipython3",
   "version": "3.13.3"
  }
 },
 "nbformat": 4,
 "nbformat_minor": 5
}
